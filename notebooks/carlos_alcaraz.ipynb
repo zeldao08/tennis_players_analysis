{
 "cells": [
  {
   "cell_type": "code",
   "execution_count": null,
   "metadata": {},
   "outputs": [],
   "source": [
    "# %pip install pyspark"
   ]
  },
  {
   "cell_type": "code",
   "execution_count": null,
   "metadata": {},
   "outputs": [],
   "source": [
    "from pyspark import SparkContext\n",
    "from pyspark.sql.session import SparkSession\n",
    "from pyspark.sql.functions import broadcast, substring, col, avg, monotonically_increasing_id, lit\n",
    "from pyspark.sql.types import StructType, StructField, StringType"
   ]
  },
  {
   "cell_type": "code",
   "execution_count": null,
   "metadata": {},
   "outputs": [],
   "source": [
    "sc = SparkContext(appName=\"Simple App\")\n",
    "spark = SparkSession(sc)"
   ]
  },
  {
   "cell_type": "code",
   "execution_count": null,
   "metadata": {},
   "outputs": [],
   "source": [
    "df_schema=StructType([\n",
    "    StructField('tourney_id', StringType(), True),\n",
    "    StructField('tourney_name', StringType(), True),\n",
    "    StructField('surface', StringType(), True),\n",
    "    StructField('draw_size', StringType(), True),\n",
    "    StructField('tourney_level', StringType(), True),\n",
    "    StructField('tourney_date', StringType(), True),\n",
    "    StructField('match_num', StringType(), True),\n",
    "    StructField('winner_id', StringType(), True),\n",
    "    StructField('winner_seed', StringType(), True),\n",
    "    StructField('winner_entry', StringType(), True),\n",
    "    StructField('winner_name', StringType(), True),\n",
    "    StructField('winner_hand', StringType(), True),\n",
    "    StructField('winner_ht', StringType(), True),\n",
    "    StructField('winner_ioc', StringType(), True),\n",
    "    StructField('winner_age', StringType(), True),\n",
    "    StructField('loser_id', StringType(), True),\n",
    "    StructField('loser_seed', StringType(), True),\n",
    "    StructField('loser_entry', StringType(), True),\n",
    "    StructField('loser_name', StringType(), True),\n",
    "    StructField('loser_hand', StringType(), True),\n",
    "    StructField('loser_ht', StringType(), True),\n",
    "    StructField('loser_ioc', StringType(), True),\n",
    "    StructField('loser_age', StringType(), True),\n",
    "    StructField('score', StringType(), True),\n",
    "    StructField('best_of', StringType(), True),\n",
    "    StructField('round', StringType(), True),\n",
    "    StructField('minutes', StringType(), True),\n",
    "    StructField('w_ace', StringType(), True),\n",
    "    StructField('w_df', StringType(), True),\n",
    "    StructField('w_svpt', StringType(), True),\n",
    "    StructField('w_1stIn', StringType(), True),\n",
    "    StructField('w_1stWon', StringType(), True),\n",
    "    StructField('w_2ndWon', StringType(), True),\n",
    "    StructField('w_SvGms', StringType(), True),\n",
    "    StructField('w_bpSaved', StringType(), True),\n",
    "    StructField('w_bpFaced', StringType(), True),\n",
    "    StructField('l_ace', StringType(), True),\n",
    "    StructField('l_df', StringType(), True),\n",
    "    StructField('l_svpt', StringType(), True),\n",
    "    StructField('l_1stIn', StringType(), True),\n",
    "    StructField('l_1stWon', StringType(), True),\n",
    "    StructField('l_2ndWon', StringType(), True),\n",
    "    StructField('l_SvGms', StringType(), True),\n",
    "    StructField('l_bpSaved', StringType(), True),\n",
    "    StructField('l_bpFaced', StringType(), True),\n",
    "    StructField('winner_rank', StringType(), True),\n",
    "    StructField('winner_rank_points', StringType(), True),\n",
    "    StructField('loser_rank', StringType(), True),\n",
    "    StructField('loser_rank_points', StringType(), True)\n",
    "])\n",
    "\n",
    "df = spark.read.schema(df_schema).csv('../files/atp/atp_matches_*', header=True)"
   ]
  },
  {
   "cell_type": "code",
   "execution_count": null,
   "metadata": {},
   "outputs": [],
   "source": [
    "# Carlos Alcaraz ID 207989\n",
    "alcaraz_df = df.select(\n",
    "    col('tourney_name'), \n",
    "    col('surface'),\n",
    "    col('draw_size'),\n",
    "    col('tourney_level'), \n",
    "    col('tourney_date'),\n",
    "    col('winner_id'),\n",
    "    col('winner_seed'),\n",
    "    col('winner_name'),\n",
    "    col('winner_hand'),\n",
    "    col('winner_ioc'),\n",
    "    col('winner_age'),\n",
    "    col('loser_id'),\n",
    "    col('loser_seed'),\n",
    "    col('loser_name'),\n",
    "    col('loser_hand'),\n",
    "    col('loser_ioc'),\n",
    "    col('loser_age'),\n",
    "    col('score'),\n",
    "    col('best_of'),\n",
    "    col('round'),\n",
    "    col('minutes'),\n",
    "    col('w_ace'),\n",
    "    col('w_df'),\n",
    "    col('w_svpt'),\n",
    "    col('w_1stIn'),\n",
    "    col('w_1stWon'),\n",
    "    col('w_2ndWon'),\n",
    "    col('w_SvGms'),\n",
    "    col('w_bpSaved'),\n",
    "    col('w_bpFaced'),\n",
    "    col('l_ace'),\n",
    "    col('l_df'),\n",
    "    col('l_svpt'),\n",
    "    col('l_1stIn'),\n",
    "    col('l_1stWon'),\n",
    "    col('l_2ndWon'),\n",
    "    col('l_SvGms'),\n",
    "    col('l_bpSaved'),\n",
    "    col('l_bpFaced'),\n",
    "    col('winner_rank'),\n",
    "    col('winner_rank_points'),\n",
    "    col('loser_rank'),\n",
    "    col('loser_rank_points')\n",
    "    ).where((col('winner_id') == '207989') | (col('loser_id') == '207989')).withColumn('match_id', monotonically_increasing_id()).cache()"
   ]
  },
  {
   "cell_type": "code",
   "execution_count": 38,
   "metadata": {},
   "outputs": [
    {
     "name": "stdout",
     "output_type": "stream",
     "text": [
      "+-----+-----+\n",
      "|Years|count|\n",
      "+-----+-----+\n",
      "| 2020|    1|\n",
      "| 2021|   32|\n",
      "| 2022|   57|\n",
      "| 2023|   65|\n",
      "| 2024|   18|\n",
      "+-----+-----+\n",
      "\n"
     ]
    }
   ],
   "source": [
    "alcaraz_wins_over_the_years = alcaraz_df.where(col('winner_id') == '207989').groupby(col('tourney_date')[0:4].alias('Years')).count().alias('Wins').orderBy(col('Years'))\n",
    "alcaraz_wins_over_the_years.show()\n",
    "\n",
    "# years = alcaraz_wins_over_the_years.select(col('Years')).rdd.flatMap(lambda x: x).collect()\n",
    "# wins = alcaraz_wins_over_the_years.select(col('count')).rdd.flatMap(lambda x: x).collect()\n"
   ]
  },
  {
   "cell_type": "code",
   "execution_count": 39,
   "metadata": {},
   "outputs": [
    {
     "name": "stdout",
     "output_type": "stream",
     "text": [
      "+-----+-----+\n",
      "|Years|count|\n",
      "+-----+-----+\n",
      "| 2020|    1|\n",
      "| 2021|   17|\n",
      "| 2022|   13|\n",
      "| 2023|   12|\n",
      "| 2024|    5|\n",
      "+-----+-----+\n",
      "\n"
     ]
    }
   ],
   "source": [
    "alcaraz_losses_over_the_years = alcaraz_df.where(col('loser_id') == '207989').groupby(col('tourney_date')[0:4].alias('Years')).count().alias('Wins').orderBy(col('Years'))\n",
    "alcaraz_losses_over_the_years.show()\n",
    "\n",
    "# years = alcaraz_losses_over_the_years.select(col('Years')).rdd.flatMap(lambda x: x).collect()\n",
    "# losses = alcaraz_losses_over_the_years.select(col('count')).rdd.flatMap(lambda x: x).collect()"
   ]
  }
 ],
 "metadata": {
  "kernelspec": {
   "display_name": "Python 3",
   "language": "python",
   "name": "python3"
  },
  "language_info": {
   "codemirror_mode": {
    "name": "ipython",
    "version": 3
   },
   "file_extension": ".py",
   "mimetype": "text/x-python",
   "name": "python",
   "nbconvert_exporter": "python",
   "pygments_lexer": "ipython3",
   "version": "3.8.9"
  }
 },
 "nbformat": 4,
 "nbformat_minor": 2
}
