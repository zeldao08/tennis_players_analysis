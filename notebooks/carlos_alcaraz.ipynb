{
 "cells": [
  {
   "cell_type": "code",
   "execution_count": 1,
   "metadata": {},
   "outputs": [],
   "source": [
    "# %pip install pyspark"
   ]
  },
  {
   "cell_type": "code",
   "execution_count": 61,
   "metadata": {},
   "outputs": [],
   "source": [
    "from pyspark import SparkContext\n",
    "from pyspark.sql.session import SparkSession\n",
    "from pyspark.sql.functions import broadcast, substring, col, avg, monotonically_increasing_id, lit, when\n",
    "from pyspark.sql.types import StructType, StructField, StringType"
   ]
  },
  {
   "cell_type": "code",
   "execution_count": 3,
   "metadata": {},
   "outputs": [
    {
     "name": "stderr",
     "output_type": "stream",
     "text": [
      "Setting default log level to \"WARN\".\n",
      "To adjust logging level use sc.setLogLevel(newLevel). For SparkR, use setLogLevel(newLevel).\n",
      "24/06/13 07:27:05 WARN NativeCodeLoader: Unable to load native-hadoop library for your platform... using builtin-java classes where applicable\n"
     ]
    }
   ],
   "source": [
    "sc = SparkContext(appName=\"Simple App\")\n",
    "spark = SparkSession(sc)"
   ]
  },
  {
   "cell_type": "code",
   "execution_count": 4,
   "metadata": {},
   "outputs": [
    {
     "name": "stderr",
     "output_type": "stream",
     "text": [
      "                                                                                \r"
     ]
    }
   ],
   "source": [
    "df_schema=StructType([\n",
    "    StructField('tourney_id', StringType(), True),\n",
    "    StructField('tourney_name', StringType(), True),\n",
    "    StructField('surface', StringType(), True),\n",
    "    StructField('draw_size', StringType(), True),\n",
    "    StructField('tourney_level', StringType(), True),\n",
    "    StructField('tourney_date', StringType(), True),\n",
    "    StructField('match_num', StringType(), True),\n",
    "    StructField('winner_id', StringType(), True),\n",
    "    StructField('winner_seed', StringType(), True),\n",
    "    StructField('winner_entry', StringType(), True),\n",
    "    StructField('winner_name', StringType(), True),\n",
    "    StructField('winner_hand', StringType(), True),\n",
    "    StructField('winner_ht', StringType(), True),\n",
    "    StructField('winner_ioc', StringType(), True),\n",
    "    StructField('winner_age', StringType(), True),\n",
    "    StructField('loser_id', StringType(), True),\n",
    "    StructField('loser_seed', StringType(), True),\n",
    "    StructField('loser_entry', StringType(), True),\n",
    "    StructField('loser_name', StringType(), True),\n",
    "    StructField('loser_hand', StringType(), True),\n",
    "    StructField('loser_ht', StringType(), True),\n",
    "    StructField('loser_ioc', StringType(), True),\n",
    "    StructField('loser_age', StringType(), True),\n",
    "    StructField('score', StringType(), True),\n",
    "    StructField('best_of', StringType(), True),\n",
    "    StructField('round', StringType(), True),\n",
    "    StructField('minutes', StringType(), True),\n",
    "    StructField('w_ace', StringType(), True),\n",
    "    StructField('w_df', StringType(), True),\n",
    "    StructField('w_svpt', StringType(), True),\n",
    "    StructField('w_1stIn', StringType(), True),\n",
    "    StructField('w_1stWon', StringType(), True),\n",
    "    StructField('w_2ndWon', StringType(), True),\n",
    "    StructField('w_SvGms', StringType(), True),\n",
    "    StructField('w_bpSaved', StringType(), True),\n",
    "    StructField('w_bpFaced', StringType(), True),\n",
    "    StructField('l_ace', StringType(), True),\n",
    "    StructField('l_df', StringType(), True),\n",
    "    StructField('l_svpt', StringType(), True),\n",
    "    StructField('l_1stIn', StringType(), True),\n",
    "    StructField('l_1stWon', StringType(), True),\n",
    "    StructField('l_2ndWon', StringType(), True),\n",
    "    StructField('l_SvGms', StringType(), True),\n",
    "    StructField('l_bpSaved', StringType(), True),\n",
    "    StructField('l_bpFaced', StringType(), True),\n",
    "    StructField('winner_rank', StringType(), True),\n",
    "    StructField('winner_rank_points', StringType(), True),\n",
    "    StructField('loser_rank', StringType(), True),\n",
    "    StructField('loser_rank_points', StringType(), True)\n",
    "])\n",
    "\n",
    "df = spark.read.schema(df_schema).csv('../files/atp/atp_matches_*', header=True)"
   ]
  },
  {
   "cell_type": "code",
   "execution_count": 5,
   "metadata": {},
   "outputs": [
    {
     "name": "stderr",
     "output_type": "stream",
     "text": [
      "24/06/13 07:27:23 WARN SparkStringUtils: Truncated the string representation of a plan since it was too large. This behavior can be adjusted by setting 'spark.sql.debug.maxToStringFields'.\n"
     ]
    }
   ],
   "source": [
    "# Carlos Alcaraz ID 207989\n",
    "alcaraz_df = df.select(\n",
    "    col('tourney_name'), \n",
    "    col('surface'),\n",
    "    col('draw_size'),\n",
    "    col('tourney_level'), \n",
    "    col('tourney_date'),\n",
    "    col('winner_id'),\n",
    "    col('winner_seed'),\n",
    "    col('winner_name'),\n",
    "    col('winner_hand'),\n",
    "    col('winner_ioc'),\n",
    "    col('winner_age'),\n",
    "    col('loser_id'),\n",
    "    col('loser_seed'),\n",
    "    col('loser_name'),\n",
    "    col('loser_hand'),\n",
    "    col('loser_ioc'),\n",
    "    col('loser_age'),\n",
    "    col('score'),\n",
    "    col('best_of'),\n",
    "    col('round'),\n",
    "    col('minutes'),\n",
    "    col('w_ace'),\n",
    "    col('w_df'),\n",
    "    col('w_svpt'),\n",
    "    col('w_1stIn'),\n",
    "    col('w_1stWon'),\n",
    "    col('w_2ndWon'),\n",
    "    col('w_SvGms'),\n",
    "    col('w_bpSaved'),\n",
    "    col('w_bpFaced'),\n",
    "    col('l_ace'),\n",
    "    col('l_df'),\n",
    "    col('l_svpt'),\n",
    "    col('l_1stIn'),\n",
    "    col('l_1stWon'),\n",
    "    col('l_2ndWon'),\n",
    "    col('l_SvGms'),\n",
    "    col('l_bpSaved'),\n",
    "    col('l_bpFaced'),\n",
    "    col('winner_rank'),\n",
    "    col('winner_rank_points'),\n",
    "    col('loser_rank'),\n",
    "    col('loser_rank_points')\n",
    "    ).where((col('winner_id') == '207989') | (col('loser_id') == '207989')).withColumn('match_id', monotonically_increasing_id()).cache()"
   ]
  },
  {
   "cell_type": "code",
   "execution_count": 39,
   "metadata": {},
   "outputs": [
    {
     "name": "stdout",
     "output_type": "stream",
     "text": [
      "+----+-------+----+------+---+\n",
      "|Year|Matches|Wins|Losses|  %|\n",
      "+----+-------+----+------+---+\n",
      "|2020|      2|   1|     1| 50|\n",
      "|2021|     49|  32|    17| 65|\n",
      "|2022|     70|  57|    13| 81|\n",
      "|2023|     77|  65|    12| 84|\n",
      "|2024|     23|  18|     5| 78|\n",
      "+----+-------+----+------+---+\n",
      "\n"
     ]
    }
   ],
   "source": [
    "alcaraz_matches_over_the_years = alcaraz_df.groupby(col('tourney_date')[0:4].alias('Year')).count().orderBy(col('Year')).withColumnRenamed('count', 'Matches')\n",
    "alcaraz_wins_over_the_years = alcaraz_df.where(col('winner_id') == '207989').groupby(col('tourney_date')[0:4].alias('Year')).count().orderBy(col('Year')).withColumnRenamed('count', 'Wins')\n",
    "alcaraz_losses_over_the_years = alcaraz_df.where(col('loser_id') == '207989').groupby(col('tourney_date')[0:4].alias('Year')).count().orderBy(col('Year')).withColumnRenamed('count', 'Losses')\n",
    "\n",
    "alcaraz_matches_wins_losses_over_the_years = alcaraz_matches_over_the_years.join(alcaraz_wins_over_the_years,['Year'])\n",
    "alcaraz_matches_wins_losses_over_the_years = alcaraz_matches_wins_losses_over_the_years.join(alcaraz_losses_over_the_years,['Year']).orderBy(col('Year'))\n",
    "\n",
    "alcaraz_matches_wins_losses_percentage_over_the_years = alcaraz_matches_wins_losses_over_the_years.withColumn('%', (col('Wins')/ ((col('Wins')+col('Losses'))) * 100).cast('int') )\n",
    "alcaraz_matches_wins_losses_percentage_over_the_years.show()"
   ]
  },
  {
   "cell_type": "code",
   "execution_count": 45,
   "metadata": {},
   "outputs": [
    {
     "name": "stdout",
     "output_type": "stream",
     "text": [
      "+-------+-------+----+------+---+\n",
      "|Surface|Matches|Wins|Losses|  %|\n",
      "+-------+-------+----+------+---+\n",
      "|   Clay|     86|  69|    17| 80|\n",
      "|   Hard|    117|  88|    29| 75|\n",
      "|  Grass|     18|  16|     2| 88|\n",
      "+-------+-------+----+------+---+\n",
      "\n"
     ]
    }
   ],
   "source": [
    "alcaraz_matches_each_surface = alcaraz_df.groupby(col('Surface')).count().withColumnRenamed('count', 'Matches')\n",
    "alcaraz_wins_each_surface = alcaraz_df.where(col('winner_id') == '207989').groupby(col('Surface')).count().withColumnRenamed('count', 'Wins')\n",
    "alcaraz_losses_each_surface = alcaraz_df.where(col('loser_id') == '207989').groupby(col('Surface')).count().withColumnRenamed('count', 'Losses')\n",
    "\n",
    "alcaraz_matches_wins_losses_each_surface = alcaraz_matches_each_surface.join(alcaraz_wins_each_surface,['Surface'])\n",
    "alcaraz_matches_wins_losses_each_surface = alcaraz_matches_wins_losses_each_surface.join(alcaraz_losses_each_surface,['Surface'])\n",
    "\n",
    "alcaraz_matches_wins_losses_percentage_each_surface = alcaraz_matches_wins_losses_each_surface.withColumn('%', (col('Wins')/ ((col('Wins')+col('Losses'))) * 100).cast('int') )\n",
    "\n",
    "alcaraz_matches_wins_losses_percentage_each_surface.show()"
   ]
  },
  {
   "cell_type": "code",
   "execution_count": 66,
   "metadata": {},
   "outputs": [
    {
     "name": "stdout",
     "output_type": "stream",
     "text": [
      "+-----------+------+\n",
      "|      Level|Titles|\n",
      "+-----------+------+\n",
      "|    Masters|     5|\n",
      "|        ATP|     7|\n",
      "|Grand Slams|     2|\n",
      "+-----------+------+\n",
      "\n"
     ]
    }
   ],
   "source": [
    "alcaraz_titles_by_level = alcaraz_df.where((col('winner_id') == '207989') & (col('round') == 'F')).groupBy(col('tourney_level').alias('Tourney Level')).count()\n",
    "alcaraz_titles_by_level = alcaraz_titles_by_level.select(when(col('Tourney Level') == 'M', 'Masters').when(col('Tourney Level') == 'A', 'ATP').when(col('Tourney Level') == 'G', 'Grand Slams').alias('Level'),col('count').alias('Titles'))\n",
    "alcaraz_titles_by_level.show()"
   ]
  },
  {
   "cell_type": "code",
   "execution_count": 70,
   "metadata": {},
   "outputs": [
    {
     "name": "stdout",
     "output_type": "stream",
     "text": [
      "+--------------------+-----------+----+\n",
      "|        Tourney Name|      Level|Year|\n",
      "+--------------------+-----------+----+\n",
      "|                Umag|        ATP|2021|\n",
      "|      NextGen Finals|        ATP|2021|\n",
      "|      Rio de Janeiro|        ATP|2022|\n",
      "|       Miami Masters|    Masters|2022|\n",
      "|           Barcelona|        ATP|2022|\n",
      "|      Madrid Masters|    Masters|2022|\n",
      "|             Us Open|Grand Slams|2022|\n",
      "|        Buenos Aires|        ATP|2023|\n",
      "|Indian Wells Masters|    Masters|2023|\n",
      "|           Barcelona|        ATP|2023|\n",
      "|      Madrid Masters|    Masters|2023|\n",
      "|        Queen's Club|        ATP|2023|\n",
      "|           Wimbledon|Grand Slams|2023|\n",
      "|Indian Wells Masters|    Masters|2024|\n",
      "+--------------------+-----------+----+\n",
      "\n"
     ]
    }
   ],
   "source": [
    "alcaraz_titles_by_name_level_year = alcaraz_df.select(col('tourney_name').alias('Tourney Name'),when(col('tourney_level') == 'M', 'Masters').when(col('tourney_level') == 'A', 'ATP').when(col('tourney_level') == 'G', 'Grand Slams').alias('Level'), col('tourney_date')[0:4].alias('Year')).where((col('winner_id') == '207989') & (col('round') == 'F')).orderBy(col('Year'))\n",
    "alcaraz_titles_by_name_level_year.show()"
   ]
  }
 ],
 "metadata": {
  "kernelspec": {
   "display_name": "Python 3",
   "language": "python",
   "name": "python3"
  },
  "language_info": {
   "codemirror_mode": {
    "name": "ipython",
    "version": 3
   },
   "file_extension": ".py",
   "mimetype": "text/x-python",
   "name": "python",
   "nbconvert_exporter": "python",
   "pygments_lexer": "ipython3",
   "version": "3.8.9"
  }
 },
 "nbformat": 4,
 "nbformat_minor": 2
}
