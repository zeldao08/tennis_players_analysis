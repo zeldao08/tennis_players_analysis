{
 "cells": [
  {
   "cell_type": "code",
   "execution_count": 1,
   "metadata": {},
   "outputs": [],
   "source": [
    "# %pip install pyspark"
   ]
  },
  {
   "cell_type": "code",
   "execution_count": 2,
   "metadata": {},
   "outputs": [],
   "source": [
    "from pyspark import SparkContext\n",
    "from pyspark.sql.session import SparkSession\n",
    "from pyspark.sql.functions import broadcast, substring, col, avg, monotonically_increasing_id, lit, when\n",
    "from pyspark.sql.types import StructType, StructField, StringType, IntegerType, FloatType"
   ]
  },
  {
   "cell_type": "code",
   "execution_count": 3,
   "metadata": {},
   "outputs": [
    {
     "name": "stderr",
     "output_type": "stream",
     "text": [
      "Setting default log level to \"WARN\".\n",
      "To adjust logging level use sc.setLogLevel(newLevel). For SparkR, use setLogLevel(newLevel).\n",
      "24/06/25 08:35:39 WARN NativeCodeLoader: Unable to load native-hadoop library for your platform... using builtin-java classes where applicable\n"
     ]
    }
   ],
   "source": [
    "sc = SparkContext(appName=\"Simple App\")\n",
    "spark = SparkSession(sc)"
   ]
  },
  {
   "cell_type": "code",
   "execution_count": 4,
   "metadata": {},
   "outputs": [
    {
     "name": "stderr",
     "output_type": "stream",
     "text": [
      "                                                                                \r"
     ]
    }
   ],
   "source": [
    "df_schema=StructType([\n",
    "    StructField('tourney_id', StringType(), True),\n",
    "    StructField('tourney_name', StringType(), True),\n",
    "    StructField('surface', StringType(), True),\n",
    "    StructField('draw_size', IntegerType(), True),\n",
    "    StructField('tourney_level', StringType(), True),\n",
    "    StructField('tourney_date', IntegerType(), True),\n",
    "    StructField('match_num', IntegerType(), True),\n",
    "    StructField('winner_id', IntegerType(), True),\n",
    "    StructField('winner_seed', IntegerType(), True),\n",
    "    StructField('winner_entry', IntegerType(), True),\n",
    "    StructField('winner_name', StringType(), True),\n",
    "    StructField('winner_hand', StringType(), True),\n",
    "    StructField('winner_ht', IntegerType(), True),\n",
    "    StructField('winner_ioc', StringType(), True),\n",
    "    StructField('winner_age', FloatType(), True),\n",
    "    StructField('loser_id', IntegerType(), True),\n",
    "    StructField('loser_seed', IntegerType(), True),\n",
    "    StructField('loser_entry', IntegerType(), True),\n",
    "    StructField('loser_name', StringType(), True),\n",
    "    StructField('loser_hand', StringType(), True),\n",
    "    StructField('loser_ht', IntegerType(), True),\n",
    "    StructField('loser_ioc', StringType(), True),\n",
    "    StructField('loser_age', FloatType(), True),\n",
    "    StructField('score', StringType(), True),\n",
    "    StructField('best_of', IntegerType(), True),\n",
    "    StructField('round', StringType(), True),\n",
    "    StructField('minutes', IntegerType(), True),\n",
    "    StructField('w_ace', IntegerType(), True),\n",
    "    StructField('w_df', IntegerType(), True),\n",
    "    StructField('w_svpt', IntegerType(), True),\n",
    "    StructField('w_1stIn', IntegerType(), True),\n",
    "    StructField('w_1stWon', IntegerType(), True),\n",
    "    StructField('w_2ndWon', IntegerType(), True),\n",
    "    StructField('w_SvGms', IntegerType(), True),\n",
    "    StructField('w_bpSaved', IntegerType(), True),\n",
    "    StructField('w_bpFaced', IntegerType(), True),\n",
    "    StructField('l_ace', IntegerType(), True),\n",
    "    StructField('l_df', IntegerType(), True),\n",
    "    StructField('l_svpt', IntegerType(), True),\n",
    "    StructField('l_1stIn', IntegerType(), True),\n",
    "    StructField('l_1stWon', IntegerType(), True),\n",
    "    StructField('l_2ndWon', IntegerType(), True),\n",
    "    StructField('l_SvGms', IntegerType(), True),\n",
    "    StructField('l_bpSaved', IntegerType(), True),\n",
    "    StructField('l_bpFaced', IntegerType(), True),\n",
    "    StructField('winner_rank', IntegerType(), True),\n",
    "    StructField('winner_rank_points', IntegerType(), True),\n",
    "    StructField('loser_rank', IntegerType(), True),\n",
    "    StructField('loser_rank_points', IntegerType(), True)\n",
    "])\n",
    "\n",
    "df = spark.read.schema(df_schema).csv('../files/atp/atp_matches_*', header=True)"
   ]
  },
  {
   "cell_type": "code",
   "execution_count": 5,
   "metadata": {},
   "outputs": [
    {
     "name": "stderr",
     "output_type": "stream",
     "text": [
      "24/06/25 08:35:52 WARN SparkStringUtils: Truncated the string representation of a plan since it was too large. This behavior can be adjusted by setting 'spark.sql.debug.maxToStringFields'.\n"
     ]
    }
   ],
   "source": [
    "# Carlos Alcaraz ID 207989\n",
    "alcaraz_df = df.select(\n",
    "    col('tourney_name'), \n",
    "    col('surface'),\n",
    "    col('draw_size'),\n",
    "    col('tourney_level'), \n",
    "    col('tourney_date'),\n",
    "    col('winner_id'),\n",
    "    col('winner_seed'),\n",
    "    col('winner_name'),\n",
    "    col('winner_hand'),\n",
    "    col('winner_ioc'),\n",
    "    col('winner_age'),\n",
    "    col('loser_id'),\n",
    "    col('loser_seed'),\n",
    "    col('loser_name'),\n",
    "    col('loser_hand'),\n",
    "    col('loser_ioc'),\n",
    "    col('loser_age'),\n",
    "    col('score'),\n",
    "    col('best_of'),\n",
    "    col('round'),\n",
    "    col('minutes'),\n",
    "    col('w_ace'),\n",
    "    col('w_df'),\n",
    "    col('w_svpt'),\n",
    "    col('w_1stIn'),\n",
    "    col('w_1stWon'),\n",
    "    col('w_2ndWon'),\n",
    "    col('w_SvGms'),\n",
    "    col('w_bpSaved'),\n",
    "    col('w_bpFaced'),\n",
    "    col('l_ace'),\n",
    "    col('l_df'),\n",
    "    col('l_svpt'),\n",
    "    col('l_1stIn'),\n",
    "    col('l_1stWon'),\n",
    "    col('l_2ndWon'),\n",
    "    col('l_SvGms'),\n",
    "    col('l_bpSaved'),\n",
    "    col('l_bpFaced'),\n",
    "    col('winner_rank'),\n",
    "    col('winner_rank_points'),\n",
    "    col('loser_rank'),\n",
    "    col('loser_rank_points')\n",
    "    ).where((col('winner_id') == 207989) | (col('loser_id') == 207989)).withColumn('match_id', monotonically_increasing_id()).cache()"
   ]
  },
  {
   "cell_type": "code",
   "execution_count": 6,
   "metadata": {},
   "outputs": [
    {
     "name": "stderr",
     "output_type": "stream",
     "text": [
      "                                                                                \r"
     ]
    },
    {
     "name": "stdout",
     "output_type": "stream",
     "text": [
      "+----+-------+----+------+---+\n",
      "|Year|Matches|Wins|Losses|  %|\n",
      "+----+-------+----+------+---+\n",
      "|2020|      2|   1|     1| 50|\n",
      "|2021|     49|  32|    17| 65|\n",
      "|2022|     70|  57|    13| 81|\n",
      "|2023|     77|  65|    12| 84|\n",
      "|2024|     23|  18|     5| 78|\n",
      "+----+-------+----+------+---+\n",
      "\n"
     ]
    }
   ],
   "source": [
    "alcaraz_matches_over_the_years = alcaraz_df.groupby(col('tourney_date')[0:4].alias('Year')).count().orderBy(col('Year')).withColumnRenamed('count', 'Matches')\n",
    "alcaraz_wins_over_the_years = alcaraz_df.where(col('winner_id') == '207989').groupby(col('tourney_date')[0:4].alias('Year')).count().orderBy(col('Year')).withColumnRenamed('count', 'Wins')\n",
    "alcaraz_losses_over_the_years = alcaraz_df.where(col('loser_id') == '207989').groupby(col('tourney_date')[0:4].alias('Year')).count().orderBy(col('Year')).withColumnRenamed('count', 'Losses')\n",
    "\n",
    "alcaraz_matches_wins_losses_over_the_years = alcaraz_matches_over_the_years.join(alcaraz_wins_over_the_years,['Year'])\n",
    "alcaraz_matches_wins_losses_over_the_years = alcaraz_matches_wins_losses_over_the_years.join(alcaraz_losses_over_the_years,['Year']).orderBy(col('Year'))\n",
    "\n",
    "alcaraz_matches_wins_losses_percentage_over_the_years = alcaraz_matches_wins_losses_over_the_years.withColumn('%', (col('Wins')/ ((col('Wins')+col('Losses'))) * 100).cast('int') )\n",
    "alcaraz_matches_wins_losses_percentage_over_the_years.show()"
   ]
  },
  {
   "cell_type": "code",
   "execution_count": 7,
   "metadata": {},
   "outputs": [
    {
     "name": "stdout",
     "output_type": "stream",
     "text": [
      "+-------+-------+----+------+---+\n",
      "|Surface|Matches|Wins|Losses|  %|\n",
      "+-------+-------+----+------+---+\n",
      "|   Clay|     86|  69|    17| 80|\n",
      "|   Hard|    117|  88|    29| 75|\n",
      "|  Grass|     18|  16|     2| 88|\n",
      "+-------+-------+----+------+---+\n",
      "\n"
     ]
    }
   ],
   "source": [
    "alcaraz_matches_each_surface = alcaraz_df.groupby(col('Surface')).count().withColumnRenamed('count', 'Matches')\n",
    "alcaraz_wins_each_surface = alcaraz_df.where(col('winner_id') == '207989').groupby(col('Surface')).count().withColumnRenamed('count', 'Wins')\n",
    "alcaraz_losses_each_surface = alcaraz_df.where(col('loser_id') == '207989').groupby(col('Surface')).count().withColumnRenamed('count', 'Losses')\n",
    "\n",
    "alcaraz_matches_wins_losses_each_surface = alcaraz_matches_each_surface.join(alcaraz_wins_each_surface,['Surface'])\n",
    "alcaraz_matches_wins_losses_each_surface = alcaraz_matches_wins_losses_each_surface.join(alcaraz_losses_each_surface,['Surface'])\n",
    "\n",
    "alcaraz_matches_wins_losses_percentage_each_surface = alcaraz_matches_wins_losses_each_surface.withColumn('%', (col('Wins')/ ((col('Wins')+col('Losses'))) * 100).cast('int') )\n",
    "\n",
    "alcaraz_matches_wins_losses_percentage_each_surface.show()"
   ]
  },
  {
   "cell_type": "code",
   "execution_count": 8,
   "metadata": {},
   "outputs": [
    {
     "name": "stdout",
     "output_type": "stream",
     "text": [
      "+-----------+------+\n",
      "|      Level|Titles|\n",
      "+-----------+------+\n",
      "|    Masters|     5|\n",
      "|        ATP|     7|\n",
      "|Grand Slams|     2|\n",
      "+-----------+------+\n",
      "\n"
     ]
    }
   ],
   "source": [
    "alcaraz_titles_by_level = alcaraz_df.where((col('winner_id') == '207989') & (col('round') == 'F')).groupBy(col('tourney_level').alias('Tourney Level')).count()\n",
    "alcaraz_titles_by_level = alcaraz_titles_by_level.select(when(col('Tourney Level') == 'M', 'Masters').when(col('Tourney Level') == 'A', 'ATP').when(col('Tourney Level') == 'G', 'Grand Slams').alias('Level'),col('count').alias('Titles'))\n",
    "alcaraz_titles_by_level.show()"
   ]
  },
  {
   "cell_type": "code",
   "execution_count": 9,
   "metadata": {},
   "outputs": [
    {
     "name": "stdout",
     "output_type": "stream",
     "text": [
      "+--------------------+-----------+----+\n",
      "|        Tourney Name|      Level|Year|\n",
      "+--------------------+-----------+----+\n",
      "|                Umag|        ATP|2021|\n",
      "|      NextGen Finals|        ATP|2021|\n",
      "|      Rio de Janeiro|        ATP|2022|\n",
      "|           Barcelona|        ATP|2022|\n",
      "|             Us Open|Grand Slams|2022|\n",
      "|       Miami Masters|    Masters|2022|\n",
      "|      Madrid Masters|    Masters|2022|\n",
      "|        Buenos Aires|        ATP|2023|\n",
      "|           Barcelona|        ATP|2023|\n",
      "|        Queen's Club|        ATP|2023|\n",
      "|           Wimbledon|Grand Slams|2023|\n",
      "|Indian Wells Masters|    Masters|2023|\n",
      "|      Madrid Masters|    Masters|2023|\n",
      "|Indian Wells Masters|    Masters|2024|\n",
      "+--------------------+-----------+----+\n",
      "\n"
     ]
    }
   ],
   "source": [
    "alcaraz_titles_by_name_level_year = alcaraz_df.select(col('tourney_name').alias('Tourney Name'),when(col('tourney_level') == 'M', 'Masters').when(col('tourney_level') == 'A', 'ATP').when(col('tourney_level') == 'G', 'Grand Slams').alias('Level'), col('tourney_date')[0:4].alias('Year')).where((col('winner_id') == '207989') & (col('round') == 'F')).orderBy(col('Year'), col('Level'))\n",
    "alcaraz_titles_by_name_level_year.show()"
   ]
  },
  {
   "cell_type": "code",
   "execution_count": 10,
   "metadata": {},
   "outputs": [
    {
     "name": "stdout",
     "output_type": "stream",
     "text": [
      "+------+----+\n",
      "|  Date|Rank|\n",
      "+------+----+\n",
      "|202002| 406|\n",
      "|202102| 141|\n",
      "|202102| 146|\n",
      "|202104| 133|\n",
      "|202105| 120|\n",
      "|202105|  97|\n",
      "|202106|  75|\n",
      "|202107|  73|\n",
      "|202108|  55|\n",
      "|202108|  54|\n",
      "|202110|  42|\n",
      "|202111|  35|\n",
      "|202111|  32|\n",
      "|202201|  31|\n",
      "|202202|  29|\n",
      "|202203|  16|\n",
      "|202203|  19|\n",
      "|202204|  11|\n",
      "|202205|   6|\n",
      "|202205|   9|\n",
      "+------+----+\n",
      "only showing top 20 rows\n",
      "\n"
     ]
    }
   ],
   "source": [
    "alcaraz_rank_progression = alcaraz_df.select(col('tourney_date')[0:6].alias('Date'), col('winner_rank').alias('Rank')).distinct().where(col('winner_id') == 207989).orderBy(col('Date'))\n",
    "alcaraz_rank_progression.show()"
   ]
  },
  {
   "cell_type": "code",
   "execution_count": 11,
   "metadata": {},
   "outputs": [
    {
     "name": "stderr",
     "output_type": "stream",
     "text": [
      "                                                                                \r"
     ]
    },
    {
     "name": "stdout",
     "output_type": "stream",
     "text": [
      "+-----------------+--------------------+--------+-----------------+\n",
      "|winner_name_index|         winner_name|features|winner_name_dummy|\n",
      "+-----------------+--------------------+--------+-----------------+\n",
      "|              0.0|      Carlos Alcaraz|   [0.0]|   (30,[0],[1.0])|\n",
      "|              1.0|    Alexander Zverev|   [1.0]|   (30,[1],[1.0])|\n",
      "|              2.0|       Jannik Sinner|   [2.0]|   (30,[2],[1.0])|\n",
      "|              3.0|Felix Auger Alias...|   [3.0]|   (30,[3],[1.0])|\n",
      "|              4.0|      Novak Djokovic|   [4.0]|   (30,[4],[1.0])|\n",
      "+-----------------+--------------------+--------+-----------------+\n",
      "only showing top 5 rows\n",
      "\n"
     ]
    }
   ],
   "source": [
    "from pyspark.ml.feature import StringIndexer, VectorAssembler, OneHotEncoder\n",
    "from pyspark.ml import Pipeline\n",
    "\n",
    "indexers = [StringIndexer(inputCol=column, outputCol=column+\"_index\").fit(alcaraz_df) for column in [\"winner_name\"]] # \"tourney_level\", \"surface\", \"tourney_name\",\n",
    "pipeline = Pipeline(stages=indexers)\n",
    "indexed_df = pipeline.fit(alcaraz_df).transform(alcaraz_df)\n",
    "\n",
    "feature_columns = [\"winner_name_index\"] # \"tourney_level_index\", \"surface_index\", \"tourney_name_index\",\n",
    "assembler = VectorAssembler(inputCols=feature_columns, outputCol=\"features\")\n",
    "assembled_df = assembler.transform(indexed_df)\n",
    "\n",
    "onehot = OneHotEncoder(inputCols=['winner_name_index'], # 'tourney_level_index', 'surface_index', 'tourney_name_index',\n",
    "                        outputCols=['winner_name_dummy']) # 'tourney_level_dummy', 'surface_dummy', 'tourney_name_dummy',\n",
    "\n",
    "onehot = onehot.fit(assembled_df)\n",
    "alcaraz_onehot = onehot.transform(assembled_df)\n",
    "alcaraz_onehot.select('winner_name_index', 'winner_name','features', 'winner_name_dummy').distinct().sort('winner_name_index').show(5)\n",
    "\n",
    "(training_data, test_data) = alcaraz_onehot.randomSplit([0.8, 0.2], seed=1234)"
   ]
  },
  {
   "cell_type": "code",
   "execution_count": 12,
   "metadata": {},
   "outputs": [
    {
     "name": "stderr",
     "output_type": "stream",
     "text": [
      "24/06/25 08:36:13 WARN Instrumentation: [2cea7c5e] regParam is zero, which might cause numerical instability and overfitting.\n",
      "24/06/25 08:36:14 WARN InstanceBuilder: Failed to load implementation from:dev.ludovic.netlib.blas.JNIBLAS\n",
      "24/06/25 08:36:14 WARN InstanceBuilder: Failed to load implementation from:dev.ludovic.netlib.lapack.JNILAPACK\n"
     ]
    },
    {
     "name": "stdout",
     "output_type": "stream",
     "text": [
      "+--------------+---------------------------+-----------------+---------------------+\n",
      "|winner_name   |loser_name                 |winner_name_index|prediction           |\n",
      "+--------------+---------------------------+-----------------+---------------------+\n",
      "|David Goffin  |Carlos Alcaraz             |15.0             |14.999999999999996   |\n",
      "|Carlos Alcaraz|Nuno Borges                |0.0              |3.675229437492464E-16|\n",
      "|Carlos Alcaraz|Alejandro Davidovich Fokina|0.0              |3.675229437492464E-16|\n",
      "|Carlos Alcaraz|Jack Draper                |0.0              |3.675229437492464E-16|\n",
      "|Carlos Alcaraz|Casper Ruud                |0.0              |3.675229437492464E-16|\n",
      "|Tommy Paul    |Carlos Alcaraz             |11.0             |10.999999999999998   |\n",
      "|Carlos Alcaraz|Mackenzie Mcdonald         |0.0              |3.675229437492464E-16|\n",
      "|Carlos Alcaraz|Jordan Thompson            |0.0              |3.675229437492464E-16|\n",
      "|Carlos Alcaraz|Tommy Paul                 |0.0              |3.675229437492464E-16|\n",
      "|Carlos Alcaraz|Max Purcell                |0.0              |3.675229437492464E-16|\n",
      "+--------------+---------------------------+-----------------+---------------------+\n",
      "only showing top 10 rows\n",
      "\n"
     ]
    },
    {
     "data": {
      "text/plain": [
       "2.207061533827349e-15"
      ]
     },
     "execution_count": 12,
     "metadata": {},
     "output_type": "execute_result"
    }
   ],
   "source": [
    "from pyspark.ml.regression import LinearRegression\n",
    "from pyspark.ml.evaluation import RegressionEvaluator\n",
    "\n",
    "regression = LinearRegression(labelCol='winner_name_index').fit(training_data)\n",
    "predictions = regression.transform(test_data)\n",
    "predictions.select('winner_name', 'loser_name','winner_name_index', 'prediction').show(10, False)\n",
    "\n",
    "RegressionEvaluator(labelCol='winner_name_index').evaluate(predictions)"
   ]
  },
  {
   "cell_type": "code",
   "execution_count": 15,
   "metadata": {},
   "outputs": [
    {
     "name": "stdout",
     "output_type": "stream",
     "text": [
      "[0.9999999999999998]\n",
      "0.9999999999999998\n",
      "3.675229437492464e-16\n"
     ]
    }
   ],
   "source": [
    "print(regression.coefficients)\n",
    "print(regression.coefficients[0])\n",
    "print(regression.intercept)"
   ]
  }
 ],
 "metadata": {
  "kernelspec": {
   "display_name": "Python 3",
   "language": "python",
   "name": "python3"
  },
  "language_info": {
   "codemirror_mode": {
    "name": "ipython",
    "version": 3
   },
   "file_extension": ".py",
   "mimetype": "text/x-python",
   "name": "python",
   "nbconvert_exporter": "python",
   "pygments_lexer": "ipython3",
   "version": "3.8.9"
  }
 },
 "nbformat": 4,
 "nbformat_minor": 2
}
