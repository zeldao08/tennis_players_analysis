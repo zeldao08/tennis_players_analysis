{
 "cells": [
  {
   "cell_type": "code",
   "execution_count": 1,
   "metadata": {},
   "outputs": [],
   "source": [
    "from pyspark import SparkContext\n",
    "from pyspark.sql.session import SparkSession\n",
    "from pyspark.sql.functions import broadcast, substring, col, avg, monotonically_increasing_id, lit, when\n",
    "from pyspark.sql.types import StructType, StructField, StringType, IntegerType, FloatType"
   ]
  },
  {
   "cell_type": "code",
   "execution_count": 2,
   "metadata": {},
   "outputs": [
    {
     "name": "stderr",
     "output_type": "stream",
     "text": [
      "Setting default log level to \"WARN\".\n",
      "To adjust logging level use sc.setLogLevel(newLevel). For SparkR, use setLogLevel(newLevel).\n",
      "24/07/08 11:47:17 WARN NativeCodeLoader: Unable to load native-hadoop library for your platform... using builtin-java classes where applicable\n"
     ]
    }
   ],
   "source": [
    "sc = SparkContext(appName=\"Simple App\")\n",
    "spark = SparkSession(sc)"
   ]
  },
  {
   "cell_type": "code",
   "execution_count": 3,
   "metadata": {},
   "outputs": [
    {
     "name": "stderr",
     "output_type": "stream",
     "text": [
      "                                                                                \r"
     ]
    }
   ],
   "source": [
    "df_schema=StructType([\n",
    "    StructField('tourney_id', StringType(), True),\n",
    "    StructField('tourney_name', StringType(), True),\n",
    "    StructField('surface', StringType(), True),\n",
    "    StructField('draw_size', IntegerType(), True),\n",
    "    StructField('tourney_level', StringType(), True),\n",
    "    StructField('tourney_date', IntegerType(), True),\n",
    "    StructField('match_num', IntegerType(), True),\n",
    "    StructField('winner_id', IntegerType(), True),\n",
    "    StructField('winner_seed', IntegerType(), True),\n",
    "    StructField('winner_entry', IntegerType(), True),\n",
    "    StructField('winner_name', StringType(), True),\n",
    "    StructField('winner_hand', StringType(), True),\n",
    "    StructField('winner_ht', IntegerType(), True),\n",
    "    StructField('winner_ioc', StringType(), True),\n",
    "    StructField('winner_age', FloatType(), True),\n",
    "    StructField('loser_id', IntegerType(), True),\n",
    "    StructField('loser_seed', IntegerType(), True),\n",
    "    StructField('loser_entry', IntegerType(), True),\n",
    "    StructField('loser_name', StringType(), True),\n",
    "    StructField('loser_hand', StringType(), True),\n",
    "    StructField('loser_ht', IntegerType(), True),\n",
    "    StructField('loser_ioc', StringType(), True),\n",
    "    StructField('loser_age', FloatType(), True),\n",
    "    StructField('score', StringType(), True),\n",
    "    StructField('best_of', IntegerType(), True),\n",
    "    StructField('round', StringType(), True),\n",
    "    StructField('minutes', IntegerType(), True),\n",
    "    StructField('w_ace', IntegerType(), True),\n",
    "    StructField('w_df', IntegerType(), True),\n",
    "    StructField('w_svpt', IntegerType(), True),\n",
    "    StructField('w_1stIn', IntegerType(), True),\n",
    "    StructField('w_1stWon', IntegerType(), True),\n",
    "    StructField('w_2ndWon', IntegerType(), True),\n",
    "    StructField('w_SvGms', IntegerType(), True),\n",
    "    StructField('w_bpSaved', IntegerType(), True),\n",
    "    StructField('w_bpFaced', IntegerType(), True),\n",
    "    StructField('l_ace', IntegerType(), True),\n",
    "    StructField('l_df', IntegerType(), True),\n",
    "    StructField('l_svpt', IntegerType(), True),\n",
    "    StructField('l_1stIn', IntegerType(), True),\n",
    "    StructField('l_1stWon', IntegerType(), True),\n",
    "    StructField('l_2ndWon', IntegerType(), True),\n",
    "    StructField('l_SvGms', IntegerType(), True),\n",
    "    StructField('l_bpSaved', IntegerType(), True),\n",
    "    StructField('l_bpFaced', IntegerType(), True),\n",
    "    StructField('winner_rank', IntegerType(), True),\n",
    "    StructField('winner_rank_points', IntegerType(), True),\n",
    "    StructField('loser_rank', IntegerType(), True),\n",
    "    StructField('loser_rank_points', IntegerType(), True)\n",
    "])\n",
    "\n",
    "df = spark.read.schema(df_schema).csv('../files/wta/wta_matches_*', header=True)"
   ]
  },
  {
   "cell_type": "code",
   "execution_count": 4,
   "metadata": {},
   "outputs": [
    {
     "name": "stderr",
     "output_type": "stream",
     "text": [
      "24/07/08 11:51:20 WARN SparkStringUtils: Truncated the string representation of a plan since it was too large. This behavior can be adjusted by setting 'spark.sql.debug.maxToStringFields'.\n"
     ]
    }
   ],
   "source": [
    "# Iga Swiatek ID 216347\n",
    "\n",
    "swiatek_df = df.select(\n",
    "    col('tourney_name'), \n",
    "    col('surface'),\n",
    "    col('draw_size'),\n",
    "    col('tourney_level'), \n",
    "    col('tourney_date'),\n",
    "    col('winner_id'),\n",
    "    col('winner_seed'),\n",
    "    col('winner_name'),\n",
    "    col('winner_hand'),\n",
    "    col('winner_ioc'),\n",
    "    col('winner_age'),\n",
    "    col('loser_id'),\n",
    "    col('loser_seed'),\n",
    "    col('loser_name'),\n",
    "    col('loser_hand'),\n",
    "    col('loser_ioc'),\n",
    "    col('loser_age'),\n",
    "    col('score'),\n",
    "    col('best_of'),\n",
    "    col('round'),\n",
    "    col('minutes'),\n",
    "    col('w_ace'),\n",
    "    col('w_df'),\n",
    "    col('w_svpt'),\n",
    "    col('w_1stIn'),\n",
    "    col('w_1stWon'),\n",
    "    col('w_2ndWon'),\n",
    "    col('w_SvGms'),\n",
    "    col('w_bpSaved'),\n",
    "    col('w_bpFaced'),\n",
    "    col('l_ace'),\n",
    "    col('l_df'),\n",
    "    col('l_svpt'),\n",
    "    col('l_1stIn'),\n",
    "    col('l_1stWon'),\n",
    "    col('l_2ndWon'),\n",
    "    col('l_SvGms'),\n",
    "    col('l_bpSaved'),\n",
    "    col('l_bpFaced'),\n",
    "    col('winner_rank'),\n",
    "    col('winner_rank_points'),\n",
    "    col('loser_rank'),\n",
    "    col('loser_rank_points')\n",
    "    ).where((col('winner_id') == 216347) | (col('loser_id') == 216347)).withColumn('match_id', monotonically_increasing_id()).cache()"
   ]
  },
  {
   "cell_type": "code",
   "execution_count": 5,
   "metadata": {},
   "outputs": [
    {
     "name": "stderr",
     "output_type": "stream",
     "text": [
      "                                                                                \r"
     ]
    },
    {
     "name": "stdout",
     "output_type": "stream",
     "text": [
      "+----+-------+----+------+---+\n",
      "|Year|Matches|Wins|Losses|  %|\n",
      "+----+-------+----+------+---+\n",
      "|2019|     28|  15|    13| 53|\n",
      "|2020|     21|  16|     5| 76|\n",
      "|2021|     51|  36|    15| 70|\n",
      "|2022|     76|  67|     9| 88|\n",
      "|2023|     82|  70|    12| 85|\n",
      "|2024|     43|  39|     4| 90|\n",
      "+----+-------+----+------+---+\n",
      "\n"
     ]
    }
   ],
   "source": [
    "matches_over_the_years = swiatek_df.groupby(col('tourney_date')[0:4].alias('Year')).count().orderBy(col('Year')).withColumnRenamed('count', 'Matches')\n",
    "wins_over_the_years = swiatek_df.where(col('winner_id') == 216347).groupby(col('tourney_date')[0:4].alias('Year')).count().orderBy(col('Year')).withColumnRenamed('count', 'Wins')\n",
    "losses_over_the_years = swiatek_df.where(col('loser_id') == 216347).groupby(col('tourney_date')[0:4].alias('Year')).count().orderBy(col('Year')).withColumnRenamed('count', 'Losses')\n",
    "\n",
    "matches_wins_losses_over_the_years = matches_over_the_years.join(wins_over_the_years,['Year'])\n",
    "matches_wins_losses_over_the_years = matches_wins_losses_over_the_years.join(losses_over_the_years,['Year']).orderBy(col('Year'))\n",
    "\n",
    "matches_wins_losses_percentage_over_the_years = matches_wins_losses_over_the_years.withColumn('%', (col('Wins')/ ((col('Wins')+col('Losses'))) * 100).cast('int') )\n",
    "matches_wins_losses_percentage_over_the_years.show()"
   ]
  },
  {
   "cell_type": "code",
   "execution_count": 7,
   "metadata": {},
   "outputs": [
    {
     "name": "stdout",
     "output_type": "stream",
     "text": [
      "+-------+-------+----+------+---+\n",
      "|Surface|Matches|Wins|Losses|  %|\n",
      "+-------+-------+----+------+---+\n",
      "|   Clay|     87|  77|    10| 88|\n",
      "|   Hard|    193| 152|    41| 78|\n",
      "|  Grass|     20|  13|     7| 65|\n",
      "+-------+-------+----+------+---+\n",
      "\n"
     ]
    }
   ],
   "source": [
    "matches_each_surface = swiatek_df.groupby(col('Surface')).count().withColumnRenamed('count', 'Matches')\n",
    "wins_each_surface = swiatek_df.where(col('winner_id') == 216347).groupby(col('Surface')).count().withColumnRenamed('count', 'Wins')\n",
    "losses_each_surface = swiatek_df.where(col('loser_id') == 216347).groupby(col('Surface')).count().withColumnRenamed('count', 'Losses')\n",
    "\n",
    "matches_wins_losses_each_surface = matches_each_surface.join(wins_each_surface,['Surface'])\n",
    "matches_wins_losses_each_surface = matches_wins_losses_each_surface.join(losses_each_surface,['Surface'])\n",
    "\n",
    "matches_wins_losses_percentage_each_surface = matches_wins_losses_each_surface.withColumn('%', (col('Wins')/ ((col('Wins')+col('Losses'))) * 100).cast('int') )\n",
    "\n",
    "matches_wins_losses_percentage_each_surface.show()"
   ]
  },
  {
   "cell_type": "code",
   "execution_count": 8,
   "metadata": {},
   "outputs": [
    {
     "name": "stdout",
     "output_type": "stream",
     "text": [
      "+-----------+------+\n",
      "|      Level|Titles|\n",
      "+-----------+------+\n",
      "|       NULL|     5|\n",
      "|       NULL|     1|\n",
      "|Grand Slams|     4|\n",
      "|       NULL|     2|\n",
      "|       NULL|    10|\n",
      "+-----------+------+\n",
      "\n"
     ]
    }
   ],
   "source": [
    "titles_by_level = swiatek_df.where((col('winner_id') == 216347) & (col('round') == 'F')).groupBy(col('tourney_level').alias('Tourney Level')).count()\n",
    "titles_by_level = titles_by_level.select(when(col('Tourney Level') == 'M', 'Masters').when(col('Tourney Level') == 'A', 'ATP').when(col('Tourney Level') == 'G', 'Grand Slams').alias('Level'),col('count').alias('Titles'))\n",
    "titles_by_level.show()"
   ]
  },
  {
   "cell_type": "code",
   "execution_count": 11,
   "metadata": {},
   "outputs": [
    {
     "name": "stdout",
     "output_type": "stream",
     "text": [
      "+-------------+-----------+----+\n",
      "| Tourney Name|      Level|Year|\n",
      "+-------------+-----------+----+\n",
      "|Roland Garros|Grand Slams|2020|\n",
      "|     Adelaide|       NULL|2021|\n",
      "|         Rome|       NULL|2021|\n",
      "|         Doha|       NULL|2022|\n",
      "| Indian Wells|       NULL|2022|\n",
      "|        Miami|       NULL|2022|\n",
      "|    Stuttgart|       NULL|2022|\n",
      "|         Rome|       NULL|2022|\n",
      "|    San Diego|       NULL|2022|\n",
      "|Roland Garros|Grand Slams|2022|\n",
      "|      Us Open|Grand Slams|2022|\n",
      "|         Doha|       NULL|2023|\n",
      "|    Stuttgart|       NULL|2023|\n",
      "|       Warsaw|       NULL|2023|\n",
      "|      Beijing|       NULL|2023|\n",
      "|Cancun Finals|       NULL|2023|\n",
      "|Roland Garros|Grand Slams|2023|\n",
      "|   United Cup|       NULL|2024|\n",
      "|         Doha|       NULL|2024|\n",
      "| Indian Wells|       NULL|2024|\n",
      "+-------------+-----------+----+\n",
      "only showing top 20 rows\n",
      "\n"
     ]
    }
   ],
   "source": [
    "titles_by_name_level_year = swiatek_df.select(col('tourney_name').alias('Tourney Name'),when(col('tourney_level') == 'M', 'Masters').when(col('tourney_level') == 'A', 'ATP').when(col('tourney_level') == 'G', 'Grand Slams').alias('Level'), col('tourney_date')[0:4].alias('Year')).where((col('winner_id') == 216347) & (col('round') == 'F')).orderBy(col('Year'), col('Level'))\n",
    "titles_by_name_level_year.show()"
   ]
  },
  {
   "cell_type": "code",
   "execution_count": 16,
   "metadata": {},
   "outputs": [
    {
     "name": "stdout",
     "output_type": "stream",
     "text": [
      "+------+----+\n",
      "|  Date|Rank|\n",
      "+------+----+\n",
      "|201802| 725|\n",
      "|201901| 177|\n",
      "|201902| 140|\n",
      "|201902| 141|\n",
      "|201904| 115|\n",
      "|201905| 104|\n",
      "|201907|  66|\n",
      "|201908|  49|\n",
      "|201908|  55|\n",
      "|201908|  65|\n",
      "|202001|  56|\n",
      "|202002|  48|\n",
      "|202002|  50|\n",
      "|202008|  53|\n",
      "|202009|  54|\n",
      "|202101|  17|\n",
      "|202102|  18|\n",
      "|202102|  17|\n",
      "|202103|  15|\n",
      "|202104|  17|\n",
      "|202105|   9|\n",
      "|202105|  15|\n",
      "|202106|   9|\n",
      "|202107|   8|\n",
      "|202108|   8|\n",
      "|202109|   6|\n",
      "|202110|   4|\n",
      "|202111|   9|\n",
      "|202201|   9|\n",
      "|202202|   9|\n",
      "|202202|   8|\n",
      "|202203|   2|\n",
      "|202203|   4|\n",
      "|202204|   1|\n",
      "|202205|   1|\n",
      "|202206|   1|\n",
      "|202207|   1|\n",
      "|202208|   1|\n",
      "|202210|   1|\n",
      "|202301|   1|\n",
      "|202302|   1|\n",
      "|202303|   1|\n",
      "|202304|   1|\n",
      "|202305|   1|\n",
      "|202306|   1|\n",
      "|202307|   1|\n",
      "|202308|   1|\n",
      "|202309|   2|\n",
      "|202310|   2|\n",
      "|202401|   1|\n",
      "+------+----+\n",
      "only showing top 50 rows\n",
      "\n"
     ]
    }
   ],
   "source": [
    "rank_progression = swiatek_df.select(col('tourney_date')[0:6].alias('Date'), col('winner_rank').alias('Rank')).distinct().where(col('winner_id') == 216347).orderBy(col('Date'))\n",
    "rank_progression.show(50)"
   ]
  }
 ],
 "metadata": {
  "kernelspec": {
   "display_name": "Python 3",
   "language": "python",
   "name": "python3"
  },
  "language_info": {
   "codemirror_mode": {
    "name": "ipython",
    "version": 3
   },
   "file_extension": ".py",
   "mimetype": "text/x-python",
   "name": "python",
   "nbconvert_exporter": "python",
   "pygments_lexer": "ipython3",
   "version": "3.8.9"
  }
 },
 "nbformat": 4,
 "nbformat_minor": 2
}
